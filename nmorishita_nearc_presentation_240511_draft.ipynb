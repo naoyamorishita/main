{
 "cells": [
  {
   "cell_type": "markdown",
   "metadata": {},
   "source": [
    "# Basic mathematics revealed forest dynamics in MA.\n",
    "This will be presented at NEARC Conference on 21st May, 2024 by Naoya Morishita.\n",
    "This presentation summarizes a chapter of the presenter's master thesis, submitted to Clark University."
   ]
  },
  {
   "cell_type": "markdown",
   "metadata": {},
   "source": [
    "## 0. Summary\n",
    "1. I only used mathematical division, subtraction, and local Moran's I to keep simplify methods.\n",
    "2. I identified clusters of high change intensity and gain quantity intensity of non- forest in central MA, not east MA.\n",
    "3. Future studies should focus on other land covers that affect connectivity among habitats."
   ]
  },
  {
   "cell_type": "markdown",
   "metadata": {},
   "source": [
    "## 1. Introduction\n",
    "- Massachusetts, especially east MA, experienced forest loss and fragmentation (Blumstein & Thompson, 2015; Rogan, et al., 2016).\n",
    "    - There are few studies compared COMBINEDLY forest connectivity and area changes between 2 time points.\n",
    "- Also, researchers developed a lot of cool tech.\n",
    "    - However, it is hard to explain and explain.\n",
    "\n",
    "![Conceptual Model](./imgs/nearc_imgs/slide1.png)"
   ]
  }
 ],
 "metadata": {
  "language_info": {
   "name": "python"
  }
 },
 "nbformat": 4,
 "nbformat_minor": 2
}
