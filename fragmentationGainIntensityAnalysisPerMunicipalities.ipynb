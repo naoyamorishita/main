{
 "cells": [
  {
   "cell_type": "markdown",
   "metadata": {},
   "source": [
    "# Fragmentation Gain Intensity Analysis per Municipalities\n",
    "\n",
    "This notebook presents town- based forest fragmentation change intensity in Massachusetts. My poster presented hwo forest fragmentation changed overtime in Massachusetts. However, there is no information to answer questions like \"where are clusters with high forest fragmentation intensities?\" Hence, this dashboard employs local Moran's I that identifies spatial clusters and outliers that has significantly high or low values. \n",
    "\n",
    "### Methods \n",
    "I downloaded [NOAA's coastal land cover dataset](https://coast.noaa.gov/digitalcoast/data/ccapregional.html), and reclassified 2006 and 2016 layer into forest or non- forest. Then, the forest pixels are reclassified if a pixel belongs to fragmented forest or non- fragmented forest. The \"fragmented forest pixels\" is those classified into rare, patchy, or transitional of [foregrond area density analysis of GuidoToolbox](https://ies-ows.jrc.ec.europa.eu/gtb/GTB/psheets/GTB-Fragmentation-FADFOS.pdf), as a comparison to American's black bears' minimum home range (24km\\^2). Then, I calculated persistence and changes of the pixels at each time point, and calculated\n",
    "\n",
    "1.  Area of fragmented, non- fragmented, and non- forest as a ratio to towns' area.\n",
    "2.  Gain, losses, and change intensities of the fragmentation categories.\n",
    "\n",
    "-   Gain intensity = \\# of pixels of gains/ \\# of pixels of interest at 2016\n",
    "-   Loss intensity = \\# of pixels of losses/ \\# of pixels of interest at 2006\n",
    "-   Change intensity = \\# of pixels of changes/ \\# of total pixels in the town\n",
    "\n",
    "3.  Quantity labels that represents if the towns experienced net gain or net loss, as well as quantity intensities.\n",
    "  - Gain quantity intensity = # of pixels of gain quantity/ # of pixels of interest at 2016\n",
    "  - Loss intensity = # of pixels of losses/ # of pixels of pixels of interest at 2006\n",
    "  - Difference Quantity = # of quantities/ # of pixels in each municipality\n",
    "4.  Local Moran's I on the change intensity showe high/ high cluster in east- central Mass"
   ]
  },
  {
   "cell_type": "code",
   "execution_count": 1,
   "metadata": {},
   "outputs": [],
   "source": [
    "import rasterio as rio \n",
    "import geopandas as gpd \n",
    "import numpy as np \n",
    "import pandas as pd"
   ]
  },
  {
   "cell_type": "code",
   "execution_count": 3,
   "metadata": {},
   "outputs": [],
   "source": [
    "import os\n",
    "os.chdir(\"/Volumes/volume/GIS Projects/Research/byTown\")"
   ]
  },
  {
   "cell_type": "markdown",
   "metadata": {},
   "source": [
    "## Step0"
   ]
  },
  {
   "cell_type": "markdown",
   "metadata": {},
   "source": [
    "### Add Municipality ID"
   ]
  },
  {
   "cell_type": "code",
   "execution_count": 4,
   "metadata": {},
   "outputs": [],
   "source": [
    "# READ DATA####\n",
    "v = gpd.read_file(\"./townssurvey_shp/TOWNSSURVEY_POLY.shp\")\n",
    "\n",
    "# ADD ID COLUMN####\n",
    "v[\"townID\"] = range(1, len(v) + 1)\n",
    "\n",
    "# EXPORT THE DATA####\n",
    "# v.to_file(\"town_with_id.shp\")"
   ]
  },
  {
   "cell_type": "markdown",
   "metadata": {},
   "source": [
    "### Rasterize Polygon with ID\n",
    "This section rasterize polygon of municipality layers to calculate intensities by each town."
   ]
  },
  {
   "cell_type": "code",
   "execution_count": 5,
   "metadata": {},
   "outputs": [],
   "source": [
    "def rasterizeVctWVal(vctPath: str,\n",
    "                     rstPath: str,\n",
    "                     valColumn: str,\n",
    "                     outPath: str):\n",
    "    v = gpd.read_file(vctPath)\n",
    "    r = rio.open(rstPath)\n",
    "\n",
    "    # Create List containing Geometry and Value====\n",
    "    geomval = ((geom, val) for geom, val in zip(v.geometry, v[valColumn]))\n",
    "\n",
    "    # Rasterize Polygon====\n",
    "    from rasterio.features import rasterize\n",
    "    outr = rasterize(geomval,\n",
    "                     out_shape = r.shape,\n",
    "                     transform = r.transform,\n",
    "                     all_touched = True,\n",
    "                     fill = 0,\n",
    "                     dtype = np.uint16)\n",
    "    # Write Raster====\n",
    "    with rio.open(\n",
    "        outPath, \"w\",\n",
    "        driver = \"GTiff\",\n",
    "        crs = r.crs,\n",
    "        transform = r.transform,\n",
    "        dtype = np.uint16,\n",
    "        count = 1,\n",
    "        width = r.width,\n",
    "        height = r.height) as newr:\n",
    "        newr.write(outr, indexes = 1)\n"
   ]
  },
  {
   "cell_type": "code",
   "execution_count": 6,
   "metadata": {},
   "outputs": [],
   "source": [
    "# rasterizeVctWVal(\"town_with_id.shp\",\n",
    "#                  \"fad2006_4conn_all.tif\",\n",
    "#                  \"townID\",\n",
    "#                  \"towns.tif\")"
   ]
  },
  {
   "cell_type": "markdown",
   "metadata": {},
   "source": [
    "## Step2"
   ]
  },
  {
   "cell_type": "markdown",
   "metadata": {},
   "source": [
    "### Assign values representing gain(1), loss(2), presence persistence(3), and absence persistence(4).\n",
    "This section creates 3 layers: which are fragmentation forest change, non- fragmentation forest change, and non- forest change, containing the 4 values (+ out of boundary)"
   ]
  },
  {
   "cell_type": "code",
   "execution_count": 7,
   "metadata": {},
   "outputs": [],
   "source": [
    "def reclassifyChanges(xPath,\n",
    "                      yPath,\n",
    "                      targetVal,\n",
    "                      outPath,\n",
    "                      outOfBoundaryVal = 0):\n",
    "    # Read Raster====\n",
    "    xarr = rio.open(xPath).read(1)\n",
    "    yarr = rio.open(yPath).read(1)\n",
    "\n",
    "    outarr = xarr.copy()\n",
    "\n",
    "    # Reclassify Raster====\n",
    "    outarr[(xarr != targetVal) & (yarr == targetVal)] = 1\n",
    "    outarr[(xarr == targetVal) & (yarr != targetVal)] = 2\n",
    "    outarr[(xarr == targetVal) & (yarr == targetVal)] = 3\n",
    "    outarr[(xarr != targetVal) & (yarr != targetVal)] = 4\n",
    "\n",
    "    # Assign 0 to out of boundary----\n",
    "    outarr[(xarr == outOfBoundaryVal) | (yarr == outOfBoundaryVal)] = 0\n",
    "\n",
    "\n",
    "    # Write Raster with Updating Meta Data====\n",
    "    ref = rio.open(xPath)\n",
    "    outMeta = ref.meta.copy()\n",
    "    outMeta.update({\n",
    "        \"dirver\": \"GTiff\",\n",
    "        \"height\": ref.height,\n",
    "        \"width\": ref.width,\n",
    "        \"transform\": ref.transform,\n",
    "        \"nodata\": 0,\n",
    "        \"dtype\": np.uint8,\n",
    "        \"crs\": ref.crs\n",
    "    })\n",
    "\n",
    "    with rio.open(outPath, \"w\", **outMeta) as newr:\n",
    "        newr.write(outarr, 1)"
   ]
  },
  {
   "cell_type": "code",
   "execution_count": 8,
   "metadata": {},
   "outputs": [],
   "source": [
    "# for i in range(1, 4):\n",
    "#     reclassifyChanges(\"fad2006_4conn_all.tif\",\n",
    "#                       \"fad2016_4conn_all.tif\",\n",
    "#                       i,\n",
    "#                       f\"fad_changes_{i}.tif\")"
   ]
  },
  {
   "cell_type": "markdown",
   "metadata": {},
   "source": [
    "## Step3"
   ]
  },
  {
   "cell_type": "markdown",
   "metadata": {},
   "source": [
    "### Count Foreground, Background, and Extent Size for Each Municipality ID at each time point\n",
    "This section aggregates the number of presence persistence, absence persistence, gain, and loss by town."
   ]
  },
  {
   "cell_type": "code",
   "execution_count": 9,
   "metadata": {},
   "outputs": [],
   "source": [
    "def countPixels(forestRasterPath, \n",
    "                municipalRaster,\n",
    "                valueOfInterest):\n",
    "    # Open Files and Remove Out of Boundary====\n",
    "    fr_original = rio.open(forestRasterPath).read(1)\n",
    "    mr_original = rio.open(municipalRaster).read(1)\n",
    "    fr = fr_original[(mr_original != 0) & (fr_original != 0)].flatten()\n",
    "    # print(np.unique(fr))\n",
    "    mr = mr_original[(mr_original != 0) & (fr_original != 0)].flatten()\n",
    "\n",
    "    # Create Array of 0 or 1: Returns 1 If Object of Interest====\n",
    "    fr_for = np.zeros(np.size(fr)).astype(np.uint8)\n",
    "    fr_for[(fr == valueOfInterest)] = 1\n",
    "    \n",
    "    print(np.unique(fr_for))\n",
    "\n",
    "    # Construct Data Frame with a Value for Every Pixel====\n",
    "    colname1 = \"fore\"\n",
    "\n",
    "    df = pd.DataFrame({\n",
    "        \"muni\": mr,\n",
    "        colname1: fr_for,\n",
    "        \"Extent\": 1\n",
    "    })\n",
    "\n",
    "    # Aggregate the Data Frame by Municipality ID====\n",
    "    df_out = df.groupby(by = [\"muni\"]).sum()\n",
    "\n",
    "    # Calculate Background Size and Foreground Intensity====\n",
    "    df_out[f\"bac_{valueOfInterest}\"] = (df_out[\"Extent\"] - df_out[colname1]).astype(np.uint32)\n",
    "    df_out[f\"fore_intensity\"] = (df_out[colname1]/ df_out[\"Extent\"])* 100\n",
    "\n",
    "    return df_out\n"
   ]
  },
  {
   "cell_type": "code",
   "execution_count": 10,
   "metadata": {},
   "outputs": [],
   "source": [
    "# Count Fragmented Forest at 2006====\n",
    "# frag2006 = countPixels(\"fad2006_4conn_all.tif\",\n",
    "#                        \"towns.tif\",\n",
    "#                        1)\n",
    "# frag2006"
   ]
  },
  {
   "cell_type": "code",
   "execution_count": 11,
   "metadata": {},
   "outputs": [],
   "source": [
    "# Count Non Fragmented Forest at 2006====\n",
    "# nonfrag2006 = countPixels(\"fad2006_4conn_all.tif\",\n",
    "#                           \"towns.tif\",\n",
    "#                           2)\n",
    "# nonfrag2006"
   ]
  },
  {
   "cell_type": "code",
   "execution_count": 12,
   "metadata": {},
   "outputs": [],
   "source": [
    "# Count Non Forest at 2006====\n",
    "# nonforest2006 = countPixels(\"fad2006_4conn_all.tif\",\n",
    "#                             \"towns.tif\",\n",
    "#                             3)\n",
    "# nonforest2006"
   ]
  },
  {
   "cell_type": "code",
   "execution_count": 13,
   "metadata": {},
   "outputs": [],
   "source": [
    "# Count Classes at 2016====\n",
    "# frag2016 = countPixels(\"fad2016_4conn_all.tif\",\n",
    "#                        \"towns.tif\",\n",
    "#                        1)\n",
    "# nonfrag2016 = countPixels(\"fad2016_4conn_all.tif\",\n",
    "#                        \"towns.tif\",\n",
    "#                        2)\n",
    "# nonforest2016 = countPixels(\"fad2016_4conn_all.tif\",\n",
    "#                             \"towns.tif\",\n",
    "#                             3)"
   ]
  },
  {
   "cell_type": "markdown",
   "metadata": {},
   "source": [
    "As a result, we created 3 layers that contains foreground area density (= number of pixels of interest/ number of pixels within a municipality).\n",
    "Note that files will be exported later.\n",
    "\n",
    "[Foreground Intensity](./imgs/screenshot2024-03-1121.23.50.png)"
   ]
  },
  {
   "cell_type": "markdown",
   "metadata": {},
   "source": [
    "### Sum up the G, L, Pp, Ap by Each Municipality\n",
    "This section returns data frame that includes gain and losses of each category."
   ]
  },
  {
   "cell_type": "code",
   "execution_count": 14,
   "metadata": {},
   "outputs": [],
   "source": [
    "def aggregateByMuni(forestRasterPath,\n",
    "                    municipalRaster,\n",
    "                    valueOfInterest):\n",
    "    \n",
    "    colName = \"val\"\n",
    "    # Open File and Remove Out of Boundary====\n",
    "    fr = rio.open(forestRasterPath).read(1)\n",
    "    mr = rio.open(municipalRaster).read(1)\n",
    "    fr2 = fr[(mr != 0) & (fr != 0)].flatten()\n",
    "    mr2 = mr[(mr != 0) & (fr != 0)].flatten()\n",
    "\n",
    "    # Check A Pixel Holds the Value of Interest: eg, Assign 1 If The Interest is Gain====\n",
    "    fr_for = np.zeros(np.size(fr2)).astype(np.uint8)\n",
    "    fr_for[(fr2 == valueOfInterest)] = 1\n",
    "\n",
    "    # Return Summarized Data Frame by Municipality====\n",
    "    df = pd.DataFrame({\n",
    "        \"muni\": mr2,\n",
    "        colName: fr_for\n",
    "    })\n",
    "    df_out = df.groupby(by = [\"muni\"]).sum()\n",
    "\n",
    "    return df_out"
   ]
  },
  {
   "cell_type": "code",
   "execution_count": 15,
   "metadata": {},
   "outputs": [],
   "source": [
    "# Count Pixel of Fragmented Forest Gain====\n",
    "# frag_gain = aggregateByMuni(\"fad_changes_1.tif\",\n",
    "#                             \"towns.tif\",\n",
    "#                             1)\n"
   ]
  },
  {
   "cell_type": "code",
   "execution_count": 16,
   "metadata": {},
   "outputs": [],
   "source": [
    "# frag_loss = aggregateByMuni(\"fad_changes_1.tif\",\n",
    "#                             \"towns.tif\",\n",
    "#                             2)"
   ]
  },
  {
   "cell_type": "code",
   "execution_count": 17,
   "metadata": {},
   "outputs": [],
   "source": [
    "# # Calculate Fagmentation Persistence====\n",
    "# frag_pp = aggregateByMuni(\"fad_changes_1.tif\",\n",
    "#                           \"towns.tif\",\n",
    "#                           3)"
   ]
  },
  {
   "cell_type": "code",
   "execution_count": 18,
   "metadata": {},
   "outputs": [],
   "source": [
    "# # Calculate Fragmented Forest Absence Persistence====\n",
    "# frag_ap = aggregateByMuni(\"fad_changes_1.tif\",\n",
    "#                           \"towns.tif\",\n",
    "#                           4)"
   ]
  },
  {
   "cell_type": "code",
   "execution_count": 19,
   "metadata": {},
   "outputs": [],
   "source": [
    "# nonfrag_gain = aggregateByMuni(\"fad_changes_2.tif\",\n",
    "#                                \"towns.tif\",\n",
    "#                                1)\n",
    "# nonfrag_loss = aggregateByMuni(\"fad_changes_2.tif\",\n",
    "#                                \"towns.tif\",\n",
    "#                                2)\n",
    "# nonfrag_pp = aggregateByMuni(\"fad_changes_2.tif\",\n",
    "#                              \"towns.tif\",\n",
    "#                              3)\n",
    "# nonfrag_ap = aggregateByMuni(\"fad_changes_2.tif\",\n",
    "#                              \"towns.tif\",\n",
    "#                              4)"
   ]
  },
  {
   "cell_type": "code",
   "execution_count": null,
   "metadata": {},
   "outputs": [],
   "source": [
    "# nonfor_gain = aggregateByMuni(\"fad_changes_3.tif\",\n",
    "#                                \"towns.tif\",\n",
    "#                                1)\n",
    "# nonfor_loss = aggregateByMuni(\"fad_changes_3.tif\",\n",
    "#                                \"towns.tif\",\n",
    "#                                2)\n",
    "# nonfor_pp = aggregateByMuni(\"fad_changes_3.tif\",\n",
    "#                              \"towns.tif\",\n",
    "#                              3)\n",
    "# nonfor_ap = aggregateByMuni(\"fad_changes_3.tif\",\n",
    "#                             \"towns.tif\",\n",
    "#                             4)"
   ]
  },
  {
   "cell_type": "markdown",
   "metadata": {},
   "source": [
    "### Calculate the Intensity\n",
    "This section calculates metrics, especially below.\n",
    "- Quantity label: Showing net gain, net loss, or no net change\n",
    "- Loss Intensity = Loss/ Forest size at 2006\n",
    "- Gain Intensity = Gain/ Forest size at 2016\n",
    "- Change Intensity = Change Size (= Loss + Gain)/ Extent size at 2016"
   ]
  },
  {
   "cell_type": "code",
   "execution_count": 20,
   "metadata": {},
   "outputs": [],
   "source": [
    "def calcChangeIntensityByMuni(gain_df,\n",
    "                              loss_df,\n",
    "                              size_df_2006,\n",
    "                              size_df_2016):\n",
    "    # Extract Values from Data Frame and Calculate Metrics====\n",
    "    gain = gain_df.val.to_numpy()\n",
    "    for_extent2016 = size_df_2016.fore.to_numpy()\n",
    "    gain_intensity = (gain/ for_extent2016)* 100\n",
    "    loss = loss_df.val.to_numpy()\n",
    "    extent_size = size_df_2006.Extent.to_numpy()\n",
    "    for_extent2006 = size_df_2006.fore.to_numpy()\n",
    "    loss_intensity = (loss/ for_extent2006)* 100\n",
    "\n",
    "    # Calculate Quantity====\n",
    "    quantity = gain.astype(np.int64) - loss.astype(np.int64)\n",
    "    quantity_abs = np.absolute(quantity)\n",
    "\n",
    "    # Label Quantity: If Gain is Larger than Loss, then Label \"Gain\" and so on====\n",
    "    quantity_label = np.where(quantity == 0,\n",
    "                              \"zero\",\n",
    "                              np.where(quantity < 0,\n",
    "                                       \"loss\",\n",
    "                                       \"gain\"))\n",
    "    gain_quantity = np.where(quantity_label == \"gain\",\n",
    "                             quantity_abs,\n",
    "                             0)\n",
    "    loss_quantity = np.where(quantity_label == \"loss\",\n",
    "                             quantity_abs,\n",
    "                             0)\n",
    "    \n",
    "    # Calculate Category Exchange====\n",
    "    category_exchange = np.where(quantity <= 0,\n",
    "                                 (loss - quantity_abs)* 2,\n",
    "                                 (gain - quantity_abs)* 2)\n",
    "    # Divide the Exchange by 2 to Avoid Double Count====\n",
    "    exchange_gain_loss = category_exchange/ 2\n",
    "    change = exchange_gain_loss + quantity_abs\n",
    "    change_intensity = (change/ extent_size)* 100\n",
    "\n",
    "    # Return the Summarized Data Frame====\n",
    "    out_df = pd.DataFrame({\n",
    "        \"muni\": gain_df.index,\n",
    "        \"fore_int16\": size_df_2016.fore_intensity,\n",
    "        \"fore_int06\": size_df_2006.fore_intensity,\n",
    "        \"gain\": gain,\n",
    "        \"loss\": loss,\n",
    "        \"gain_int\": gain_intensity,\n",
    "        \"loss_int\": loss_intensity,\n",
    "        \"extent\": extent_size,\n",
    "        \"gain_quantity\": gain_quantity,\n",
    "        \"loss_quantity\": loss_quantity,\n",
    "        \"quant_lab\": quantity_label,\n",
    "        \"catg_xchg\": category_exchange,\n",
    "        \"xchg_gl\": exchange_gain_loss,\n",
    "        \"change\": change,\n",
    "        \"change_int\": change_intensity\n",
    "    })\n",
    "\n",
    "    # out_df.fillna(0).to_csv(\"test.csv\")\n",
    "    return out_df.fillna(0)\n",
    "    "
   ]
  },
  {
   "cell_type": "code",
   "execution_count": 21,
   "metadata": {},
   "outputs": [],
   "source": [
    "# frag_changes = calcChangeIntensityByMuni(frag_gain,\n",
    "#                                          frag_loss,\n",
    "#                                          frag2006,\n",
    "#                                          frag2016)\n",
    "\n",
    "# non_frag_changes = calcChangeIntensityByMuni(nonfrag_gain,\n",
    "#                                              nonfrag_loss,\n",
    "#                                              nonfrag2006,\n",
    "#                                              nonfrag2016)\n",
    "\n",
    "# non_forest_changes = calcChangeIntensityByMuni(nonfor_gain,\n",
    "#                                                nonfor_loss,\n",
    "#                                                nonforest2006,\n",
    "#                                                nonforest2016)\n"
   ]
  },
  {
   "cell_type": "markdown",
   "metadata": {},
   "source": [
    "## Step4\n",
    "### Join the results and the original vector file\n",
    "This section exports the file as shape file."
   ]
  },
  {
   "cell_type": "code",
   "execution_count": 22,
   "metadata": {},
   "outputs": [],
   "source": [
    "v = v[[\"townID\", \"geometry\"]]"
   ]
  },
  {
   "cell_type": "code",
   "execution_count": 23,
   "metadata": {},
   "outputs": [],
   "source": [
    "# frag_changes = frag_changes.drop(\"muni\", axis = 1).reset_index()\n",
    "\n",
    "# gdf_frag = v.merge(frag_changes, how = \"inner\", left_on = \"townID\", right_on = \"muni\")\n",
    "# gdf_frag.to_file(\"./output/frag_changes.shp\")"
   ]
  },
  {
   "cell_type": "code",
   "execution_count": 24,
   "metadata": {},
   "outputs": [],
   "source": [
    "# non_frag_changes = non_frag_changes.drop(\"muni\", axis = 1).reset_index()\n",
    "\n",
    "# gdf_nonfrag = v.merge(non_frag_changes, how = \"inner\", left_on = \"townID\", right_on = \"muni\")\n",
    "# gdf_nonfrag.to_file(\"./output/nonfrag_changes.shp\")"
   ]
  },
  {
   "cell_type": "code",
   "execution_count": 25,
   "metadata": {},
   "outputs": [],
   "source": [
    "# non_forest_changes = non_forest_changes.drop(\"muni\", axis = 1).reset_index()\n",
    "\n",
    "# gdf_nonfor = v.merge(non_forest_changes, how = \"inner\", left_on = \"townID\", right_on = \"muni\")\n",
    "# gdf_nonfor.to_file(\"./output/nonfor_changes.shp\")"
   ]
  },
  {
   "cell_type": "markdown",
   "metadata": {},
   "source": [
    "As a result, we got several images\n",
    "\n",
    "[Quantity Label](imgs/screenshot2024-03-1121.35.50.png)\n",
    "[Intensities of Fragmented Forest](imgs/screenshot2024-03-1121.36.15.png)\n",
    "[Intensities of Non- fragmented forest](imgs/screenshot2024-03-1121.51.02.png)\n",
    "[Intensities of Non- forest](imgs/screenshot2024-03-1121.36.48.png)"
   ]
  },
  {
   "cell_type": "markdown",
   "metadata": {},
   "source": [
    "## Step 5"
   ]
  },
  {
   "cell_type": "markdown",
   "metadata": {},
   "source": [
    "### Calculate Local Morans I\n",
    "The local moran's I identifies cluster of significantly high values/ low values, as well as spatial outliers."
   ]
  },
  {
   "cell_type": "code",
   "execution_count": 26,
   "metadata": {},
   "outputs": [],
   "source": [
    "def calcMoran(gdf,\n",
    "              variables_list,\n",
    "              out_name):\n",
    "    import pygeoda \n",
    "\n",
    "    # Open File and Create a Spatial Weight File====\n",
    "    file = pygeoda.open(gdf)\n",
    "    w = pygeoda.queen_weights(file)\n",
    "\n",
    "    # Calculate Local Moran and Get P Values and Label Category Value====\n",
    "    d = {}\n",
    "    for i in range(len(variables_list)):\n",
    "        lm = pygeoda.local_moran(w, file[variables_list[i]])\n",
    "        pval = pd.Series(lm.lisa_pvalues())\n",
    "        lab = pd.Series(lm.lisa_clusters())\n",
    "        p_key = f\"p_{variables_list[i]}\"\n",
    "        l_key = f\"l_{variables_list[i]}\"\n",
    "        d[p_key] = pval\n",
    "        d[l_key] = lab\n",
    "\n",
    "    # Combine with Geometry and Export as Shape File====\n",
    "    d[\"geometry\"] = gdf[\"geometry\"]\n",
    "\n",
    "    out_gdf = gpd.GeoDataFrame(d)\n",
    "    out_gdf.to_file(out_name)\n"
   ]
  },
  {
   "cell_type": "code",
   "execution_count": 27,
   "metadata": {},
   "outputs": [],
   "source": [
    "# calcMoran(gdf_frag, [\"gain_int\", \"loss_int\", \"change_int\"], \"./output/frag_int_moran.shp\")"
   ]
  },
  {
   "cell_type": "code",
   "execution_count": 28,
   "metadata": {},
   "outputs": [],
   "source": [
    "# calcMoran(gdf_nonfrag, [\"gain_int\", \"loss_int\", \"change_int\"], \"./output/nonfrag_int_moran.shp\")\n",
    "# calcMoran(gdf_nonfor, [\"gain_int\", \"loss_int\", \"change_int\"], \"./output/nonfor_int_moran.shp\")"
   ]
  },
  {
   "cell_type": "markdown",
   "metadata": {},
   "source": [
    "As a result, we got an image.\n",
    "\n",
    "[Image of Local Moran's I](imgs/screenshot2024-03-1121.51.51.png)"
   ]
  },
  {
   "cell_type": "markdown",
   "metadata": {},
   "source": [
    "## Result & Discussion\n",
    "We found that\n",
    "1.  Fragmented forest is frequent in eastern MA, but non- fragmente forest is frequent in western MA.\n",
    "2.  Nonetheless, non- fragmented forest experienced net loss in the eastern MA, and gained in central MA\n",
    "    - There is spatial patterns of distributions of fragmented forest and changes.\n",
    "3.  Non- fragmented forest experienced net loss in most of the towns.\n",
    "4.  Non- forest experienced net gain in most of the towns.\n",
    "    - Many towns experienced forest fragmentation and losses during the time interval.\n",
    "5. Local Moran's I on the change intensity showe high/ high cluster in east- central Mass\n",
    "    - This indicates that *significantly large change intensities are around Worcester, not around Boston!*\n",
    "\n",
    "## Appendix\n",
    "### Key Reference\n",
    "-  Rogan, J., Wright, T. M., Cardille, J., Pearsall, H., Ogneva-Himmelberger, Y., Riemann, R., ... & Partington, K. (2016). Forest fragmentation in Massachusetts, USA: A town-level assessment using Morphological spatial pattern analysis and affinity propagation. GIScience & Remote Sensing, 53(4), 506-519.\n",
    "-  Pontius Jr, R. G. (2022). Metrics that make a difference. Springer Nature Switzerland AG: Cham, Switzerland.\n",
    "\n",
    "### Software\n",
    "-   Vogt P. and Riitters K. (2017). GuidosToolbox: universal digital image object analysis. European Journal of Remote Sensing, 50, 1, pp. 352-361, doi: 10.1080/22797254.2017.1330650\n",
    "-   Li X. and Anselin L (2019) pygeoda 0.0.8. GeoDaCenter. <https://github.com/GeoDaCenter/pygeoda>\n",
    "-   Python Software Foundation (2023) Python 3.11.5. Webpage of Python <https://www.python.org/downloads/release/python-3115/>\n",
    "\n",
    "*I would like to thank Professor John Rogan for his constructive feedbacks.*"
   ]
  },
  {
   "cell_type": "markdown",
   "metadata": {},
   "source": [
    "## Next Steps\n",
    "1. Explain quantity and exchange (gross change vs net change)"
   ]
  }
 ],
 "metadata": {
  "kernelspec": {
   "display_name": "Python 3",
   "language": "python",
   "name": "python3"
  },
  "language_info": {
   "codemirror_mode": {
    "name": "ipython",
    "version": 3
   },
   "file_extension": ".py",
   "mimetype": "text/x-python",
   "name": "python",
   "nbconvert_exporter": "python",
   "pygments_lexer": "ipython3",
   "version": "3.11.1"
  }
 },
 "nbformat": 4,
 "nbformat_minor": 2
}
