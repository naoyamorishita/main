{
 "cells": [
  {
   "cell_type": "markdown",
   "metadata": {},
   "source": [
    "# Demo of Categorical Variable Change using Pontius Method\n",
    "**See [the original GitHub repo](https://github.com/verma-priyanka/pontiPy) by developers.**"
   ]
  },
  {
   "cell_type": "markdown",
   "metadata": {},
   "source": [
    "## Preparation\n",
    "We first import libraries."
   ]
  },
  {
   "cell_type": "code",
   "execution_count": 1,
   "metadata": {},
   "outputs": [],
   "source": [
    "# !pip3 install pontiPy"
   ]
  },
  {
   "cell_type": "code",
   "execution_count": 2,
   "metadata": {},
   "outputs": [],
   "source": [
    "# IMPORT LIBARIES####\n",
    "# Handle Raster====\n",
    "import rasterio as rio \n",
    "import numpy as np \n",
    "\n",
    "# Calculate Metrics====\n",
    "import pandas as pd\n",
    "from pontiPy import *\n",
    "from scipy.stats.contingency import crosstab\n",
    "\n",
    "# Visualize Reult====\n",
    "import matplotlib as mpl \n",
    "import matplotlib.pyplot as plt \n",
    "import seaborn as sb"
   ]
  },
  {
   "cell_type": "code",
   "execution_count": 3,
   "metadata": {},
   "outputs": [],
   "source": [
    "# Disable Warnings====\n",
    "import warnings\n",
    "warnings.filterwarnings('ignore')"
   ]
  },
  {
   "cell_type": "markdown",
   "metadata": {},
   "source": [
    "## Create a Crosstabulation Data Frame\n",
    "We will first create a cross tabulation that counts changes or errors. These are not explained in the Developers' GitHub, but I figured this out:).\n",
    "\n",
    "If we handle changes, then the data frame contains counts from time 1 in the row direction (X) and those from time 2 in the column direction (Y). If we handle errors, then the data frame contains counts from map in the row direction and those from reference in the column direction."
   ]
  },
  {
   "cell_type": "code",
   "execution_count": 4,
   "metadata": {},
   "outputs": [],
   "source": [
    "# CREATE CROSSTABULATION####\n",
    "def makeCrossTab(xPath:str,\n",
    "                 yPath:str,\n",
    "                 analysisType:str = \"error\",\n",
    "                 # Change 1 to 1000 to show crosstab with unit of 1000 pixles----\n",
    "                 factor = 1,\n",
    "                 csvPath:str = None,\n",
    "                 noValuesPosition = None,\n",
    "                 categoryNames = []):\n",
    "    \n",
    "    # Open Raster as Numpy Array====\n",
    "    xarr = rio.open(xPath).read(1)\n",
    "    yarr = rio.open(yPath).read(1)\n",
    "    # Create a Crosstabulation====\n",
    "    ct = crosstab(xarr, yarr).count/ factor\n",
    "    # print(ct)\n",
    "\n",
    "    # Convert Matrix to DataFrame====\n",
    "    if categoryNames == []:\n",
    "        df = pd.DataFrame(ct)\n",
    "    else:\n",
    "        # Add column and index names if specified----\n",
    "        df = pd.DataFrame(ct,\n",
    "                          columns = categoryNames,\n",
    "                          index = categoryNames)\n",
    "    \n",
    "    # Remove No Values====\n",
    "    if noValuesPosition != None:\n",
    "        # Drop columns of no data----\n",
    "        df = df.drop(df.columns[noValuesPosition],\n",
    "                     axis = 1)\n",
    "        # Drop rows of no data----\n",
    "        df = df.drop(df.index[noValuesPosition],\n",
    "                     axis = 0)\n",
    "    \n",
    "    # Save the CSV File====\n",
    "    if csvPath != None:\n",
    "        df.to_csv(csvPath)\n",
    "    \n",
    "    # Return DataFrame as a PontiPy Object====\n",
    "    if analysisType == \"error\":\n",
    "        return pontiPy_Error(df), df\n",
    "    elif analysisType == \"change\":\n",
    "        return  pontiPy_Change(df), df\n",
    "    else:\n",
    "        raise \"Error: Choose from either error or change\""
   ]
  },
  {
   "cell_type": "code",
   "execution_count": 5,
   "metadata": {},
   "outputs": [],
   "source": [
    "changeDF, df = makeCrossTab(\"/Volumes/volume 1/GIS Projects/Research/240105/whole_state/fad2005_4conn_all.tif\",\n",
    "                            \"/Volumes/volume 1/GIS Projects/Research/240105/whole_state/fad2016_4conn_all.tif\",\n",
    "                            \"change\",\n",
    "                            1,\n",
    "                            None,\n",
    "                            0,\n",
    "                            categoryNames = [\"NoData\", \"FF\", \"NFF\", \"NF\"])"
   ]
  },
  {
   "cell_type": "code",
   "execution_count": 6,
   "metadata": {},
   "outputs": [
    {
     "data": {
      "text/html": [
       "<div>\n",
       "<style scoped>\n",
       "    .dataframe tbody tr th:only-of-type {\n",
       "        vertical-align: middle;\n",
       "    }\n",
       "\n",
       "    .dataframe tbody tr th {\n",
       "        vertical-align: top;\n",
       "    }\n",
       "\n",
       "    .dataframe thead th {\n",
       "        text-align: right;\n",
       "    }\n",
       "</style>\n",
       "<table border=\"1\" class=\"dataframe\">\n",
       "  <thead>\n",
       "    <tr style=\"text-align: right;\">\n",
       "      <th></th>\n",
       "      <th>FF</th>\n",
       "      <th>NFF</th>\n",
       "      <th>NF</th>\n",
       "    </tr>\n",
       "  </thead>\n",
       "  <tbody>\n",
       "    <tr>\n",
       "      <th>FF</th>\n",
       "      <td>2933538.0</td>\n",
       "      <td>96832.0</td>\n",
       "      <td>1475258.0</td>\n",
       "    </tr>\n",
       "    <tr>\n",
       "      <th>NFF</th>\n",
       "      <td>1189334.0</td>\n",
       "      <td>7205069.0</td>\n",
       "      <td>1425948.0</td>\n",
       "    </tr>\n",
       "    <tr>\n",
       "      <th>NF</th>\n",
       "      <td>1577438.0</td>\n",
       "      <td>562225.0</td>\n",
       "      <td>7102584.0</td>\n",
       "    </tr>\n",
       "  </tbody>\n",
       "</table>\n",
       "</div>"
      ],
      "text/plain": [
       "            FF        NFF         NF\n",
       "FF   2933538.0    96832.0  1475258.0\n",
       "NFF  1189334.0  7205069.0  1425948.0\n",
       "NF   1577438.0   562225.0  7102584.0"
      ]
     },
     "execution_count": 6,
     "metadata": {},
     "output_type": "execute_result"
    }
   ],
   "source": [
    "df"
   ]
  },
  {
   "cell_type": "markdown",
   "metadata": {},
   "source": [
    "## Demonstration when We Want to Analyze Change\n",
    "See the [developers GitHub](https://github.com/verma-priyanka/pontiPy) for error metrics"
   ]
  },
  {
   "cell_type": "markdown",
   "metadata": {},
   "source": [
    "### Calculate Change Quantity"
   ]
  },
  {
   "cell_type": "code",
   "execution_count": 7,
   "metadata": {},
   "outputs": [],
   "source": [
    "# CALCULATE CHANGE QUANTITY for EACH CATEGORY####\n",
    "def calculateCategoryQuantity(changeDF, df):\n",
    "    # Create a Blank Dictionary to Contain Values====\n",
    "    cqDict = {}\n",
    "    # Iterate the Data Extracting for All Categories====\n",
    "    for i in range(len(df.columns)):\n",
    "        # Get Quantity of Current Category with Lable of Gain/ Loss====\n",
    "        subD = changeDF.quantity(category = i, label = True)\n",
    "        # Separate the Key and Values====\n",
    "        k = str(i) + \"_\" + list(subD.keys())[0]\n",
    "        v = list(subD.values())[0]\n",
    "        # Populate the Key Value Pair in the Empty Dictionary====\n",
    "        cqDict[k] = v\n",
    "    # Get the Final Output====\n",
    "    return cqDict"
   ]
  },
  {
   "cell_type": "code",
   "execution_count": 8,
   "metadata": {},
   "outputs": [
    {
     "data": {
      "text/plain": [
       "{'0_Gain': 1194682.0, '1_Loss': 1956225.0, '2_Gain': 761543.0}"
      ]
     },
     "execution_count": 8,
     "metadata": {},
     "output_type": "execute_result"
    }
   ],
   "source": [
    "qd1 = calculateCategoryQuantity(changeDF, df)\n",
    "qd1"
   ]
  },
  {
   "cell_type": "markdown",
   "metadata": {},
   "source": [
    "### Calculate Change Exchange"
   ]
  },
  {
   "cell_type": "code",
   "execution_count": 9,
   "metadata": {},
   "outputs": [],
   "source": [
    "# CALCULATE CHANGE EXCHANGE for EACH CATEGORY####\n",
    "def calculateCategoryExchange(change_df, df):\n",
    "    ceDict = {}\n",
    "    for i in range(len(df.columns)):\n",
    "        # Get Exchange of Current Category with Another Category as Dictionary====\n",
    "        subD = change_df.exchange(category1 = i)\n",
    "        # Separate the Key and Values of Dictionary====\n",
    "        k = str(i)\n",
    "        v = subD\n",
    "        # Populate the Key Value Pair in the Empty Dictionary====\n",
    "        ceDict[k] = v\n",
    "    # Get the Final Output====\n",
    "    return ceDict"
   ]
  },
  {
   "cell_type": "code",
   "execution_count": 10,
   "metadata": {},
   "outputs": [
    {
     "data": {
      "text/plain": [
       "{'0': {'Category 1': 96832.0, 'Category 2': 1475258.0},\n",
       " '1': {'Category 0': 96832.0, 'Category 2': 562225.0},\n",
       " '2': {'Category 0': 1475258.0, 'Category 1': 562225.0}}"
      ]
     },
     "execution_count": 10,
     "metadata": {},
     "output_type": "execute_result"
    }
   ],
   "source": [
    "ed1 = calculateCategoryExchange(changeDF, df)\n",
    "ed1"
   ]
  },
  {
   "cell_type": "markdown",
   "metadata": {},
   "source": [
    "### Calculate Shift"
   ]
  },
  {
   "cell_type": "code",
   "execution_count": 11,
   "metadata": {},
   "outputs": [],
   "source": [
    "# CALCULATE CHANGE SHIFT for EACH CATEGORY####\n",
    "def calculateCategoryShift(change_df, df):\n",
    "    csDict = {}\n",
    "    for i in range(len(df.columns)):\n",
    "        subD = change_df.shift(category = i)\n",
    "        k = str(i)\n",
    "        v = subD\n",
    "        csDict[k] = v\n",
    "    return csDict"
   ]
  },
  {
   "cell_type": "code",
   "execution_count": 12,
   "metadata": {},
   "outputs": [
    {
     "data": {
      "text/plain": [
       "{'0': 0.0, '1': 0.0, '2': 102180.0}"
      ]
     },
     "execution_count": 12,
     "metadata": {},
     "output_type": "execute_result"
    }
   ],
   "source": [
    "sd1 = calculateCategoryShift(changeDF, df)\n",
    "sd1"
   ]
  },
  {
   "cell_type": "markdown",
   "metadata": {},
   "source": [
    "## Summarize the Category Size"
   ]
  },
  {
   "cell_type": "code",
   "execution_count": 13,
   "metadata": {},
   "outputs": [],
   "source": [
    "def summarizeCategoryDiffSize(change_df, df, quantity_dictionary, exchange_dictionary, shift_dictionary):\n",
    "    print(\"====Summary of Category & Difference Size====\")\n",
    "    for i in range(len(df.columns)):\n",
    "        # Get the Category Name====\n",
    "        print(\"Category: \" + str(i))\n",
    "        # Get the Persistence Size====\n",
    "        print(\"Persistence: \" + str(change_df.persistence(category = i)))\n",
    "        # Get the Gain Size====\n",
    "        print(\"Gain: \" + str(change_df.gain(category = i)))\n",
    "        # Get the Loss Size====\n",
    "        print(\"Loss: \" + str(change_df.loss(category = i)))\n",
    "        # Get the Quantity Size and Label of Gain/ Loss====\n",
    "        print(\"Quantity: \" + str(list(quantity_dictionary.keys())[i]) + \"->\" + str(list(quantity_dictionary.values())[i]))\n",
    "        print(\"Note that Gain Quantity is 0, if loss quantity is more than 0, and vice versa\")\n",
    "        # Take All Exchanges between the Current Category and the Other Category====\n",
    "        eValues = exchange_dictionary[str(i)].values()\n",
    "        # Sum up the Exchanges====\n",
    "        print(\"Category Exchange: \" + str(2*sum(list(eValues))))\n",
    "        # Get Shift from the Dictionary=====\n",
    "        sValues = list(shift_dictionary.values())[i]\n",
    "        print(\"Category Shift: \" + str(sValues))\n",
    "        # Calculate Shift and Exchange for Gain and Losses====\n",
    "        print(\"Gain Exchange = Loss Exchange: \" + str(sum(list(eValues))))\n",
    "        print(\"Gain Shift = Loss Shift: \" + str(sValues/ 2))\n",
    "        # Transition to the Next Category=====\n",
    "        print(\"====\")"
   ]
  },
  {
   "cell_type": "code",
   "execution_count": 14,
   "metadata": {},
   "outputs": [
    {
     "name": "stdout",
     "output_type": "stream",
     "text": [
      "====Summary of Category & Difference Size====\n",
      "Category: 0\n",
      "Persistence: 2933538.0\n",
      "Gain: 2766772.0\n",
      "Loss: 1572090.0\n",
      "Quantity: 0_Gain->1194682.0\n",
      "Note that Gain Quantity is 0, if loss quantity is more than 0, and vice versa\n",
      "Category Exchange: 3144180.0\n",
      "Category Shift: 0.0\n",
      "Gain Exchange = Loss Exchange: 1572090.0\n",
      "Gain Shift = Loss Shift: 0.0\n",
      "====\n",
      "Category: 1\n",
      "Persistence: 7205069.0\n",
      "Gain: 659057.0\n",
      "Loss: 2615282.0\n",
      "Quantity: 1_Loss->1956225.0\n",
      "Note that Gain Quantity is 0, if loss quantity is more than 0, and vice versa\n",
      "Category Exchange: 1318114.0\n",
      "Category Shift: 0.0\n",
      "Gain Exchange = Loss Exchange: 659057.0\n",
      "Gain Shift = Loss Shift: 0.0\n",
      "====\n",
      "Category: 2\n",
      "Persistence: 7102584.0\n",
      "Gain: 2901206.0\n",
      "Loss: 2139663.0\n",
      "Quantity: 2_Gain->761543.0\n",
      "Note that Gain Quantity is 0, if loss quantity is more than 0, and vice versa\n",
      "Category Exchange: 4074966.0\n",
      "Category Shift: 102180.0\n",
      "Gain Exchange = Loss Exchange: 2037483.0\n",
      "Gain Shift = Loss Shift: 51090.0\n",
      "====\n"
     ]
    }
   ],
   "source": [
    "summarizeCategoryDiffSize(changeDF, df, qd1, ed1, sd1)"
   ]
  },
  {
   "cell_type": "markdown",
   "metadata": {},
   "source": [
    "## Calculate Difference Size for the Extent"
   ]
  },
  {
   "cell_type": "markdown",
   "metadata": {},
   "source": [
    "## Calculate Change Intensities"
   ]
  },
  {
   "cell_type": "markdown",
   "metadata": {},
   "source": [
    "## Next Steps\n",
    "1. Double check the values.\n",
    "    - Use Pontius Excel sheet.\n",
    "2. Calculate difference size for the extent.\n",
    "2. Calculate change intensities.\n",
    "3. Visualize the size and intensities."
   ]
  }
 ],
 "metadata": {
  "kernelspec": {
   "display_name": "Python 3",
   "language": "python",
   "name": "python3"
  },
  "language_info": {
   "codemirror_mode": {
    "name": "ipython",
    "version": 3
   },
   "file_extension": ".py",
   "mimetype": "text/x-python",
   "name": "python",
   "nbconvert_exporter": "python",
   "pygments_lexer": "ipython3",
   "version": "3.11.1"
  }
 },
 "nbformat": 4,
 "nbformat_minor": 2
}
